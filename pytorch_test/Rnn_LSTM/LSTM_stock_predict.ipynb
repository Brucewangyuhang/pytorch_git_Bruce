{
 "cells": [
  {
   "cell_type": "markdown",
   "id": "03cf00c8-7ff0-4a85-8720-8db4f3a3fa41",
   "metadata": {},
   "source": [
    "# LSTM\n",
    "\n",
    "I want to create the general structure of as LSTM input data\n",
    "\n",
    "creat 3 dimensions (the number of samples, lookback, the number of features)"
   ]
  },
  {
   "cell_type": "code",
   "execution_count": 193,
   "id": "3d0525d7-f343-4f1f-aee9-42729f99d6d3",
   "metadata": {},
   "outputs": [
    {
     "data": {
      "text/html": [
       "<div>\n",
       "<style scoped>\n",
       "    .dataframe tbody tr th:only-of-type {\n",
       "        vertical-align: middle;\n",
       "    }\n",
       "\n",
       "    .dataframe tbody tr th {\n",
       "        vertical-align: top;\n",
       "    }\n",
       "\n",
       "    .dataframe thead th {\n",
       "        text-align: right;\n",
       "    }\n",
       "</style>\n",
       "<table border=\"1\" class=\"dataframe\">\n",
       "  <thead>\n",
       "    <tr style=\"text-align: right;\">\n",
       "      <th></th>\n",
       "      <th>date</th>\n",
       "      <th>symbol</th>\n",
       "      <th>open</th>\n",
       "      <th>close</th>\n",
       "      <th>low</th>\n",
       "      <th>high</th>\n",
       "      <th>volume</th>\n",
       "    </tr>\n",
       "  </thead>\n",
       "  <tbody>\n",
       "    <tr>\n",
       "      <th>0</th>\n",
       "      <td>2016-01-05 00:00:00</td>\n",
       "      <td>WLTW</td>\n",
       "      <td>123.430000</td>\n",
       "      <td>125.839996</td>\n",
       "      <td>122.309998</td>\n",
       "      <td>126.250000</td>\n",
       "      <td>2163600.0</td>\n",
       "    </tr>\n",
       "    <tr>\n",
       "      <th>1</th>\n",
       "      <td>2016-01-06 00:00:00</td>\n",
       "      <td>WLTW</td>\n",
       "      <td>125.239998</td>\n",
       "      <td>119.980003</td>\n",
       "      <td>119.940002</td>\n",
       "      <td>125.540001</td>\n",
       "      <td>2386400.0</td>\n",
       "    </tr>\n",
       "    <tr>\n",
       "      <th>2</th>\n",
       "      <td>2016-01-07 00:00:00</td>\n",
       "      <td>WLTW</td>\n",
       "      <td>116.379997</td>\n",
       "      <td>114.949997</td>\n",
       "      <td>114.930000</td>\n",
       "      <td>119.739998</td>\n",
       "      <td>2489500.0</td>\n",
       "    </tr>\n",
       "    <tr>\n",
       "      <th>3</th>\n",
       "      <td>2016-01-08 00:00:00</td>\n",
       "      <td>WLTW</td>\n",
       "      <td>115.480003</td>\n",
       "      <td>116.620003</td>\n",
       "      <td>113.500000</td>\n",
       "      <td>117.440002</td>\n",
       "      <td>2006300.0</td>\n",
       "    </tr>\n",
       "    <tr>\n",
       "      <th>4</th>\n",
       "      <td>2016-01-11 00:00:00</td>\n",
       "      <td>WLTW</td>\n",
       "      <td>117.010002</td>\n",
       "      <td>114.970001</td>\n",
       "      <td>114.089996</td>\n",
       "      <td>117.330002</td>\n",
       "      <td>1408600.0</td>\n",
       "    </tr>\n",
       "    <tr>\n",
       "      <th>...</th>\n",
       "      <td>...</td>\n",
       "      <td>...</td>\n",
       "      <td>...</td>\n",
       "      <td>...</td>\n",
       "      <td>...</td>\n",
       "      <td>...</td>\n",
       "      <td>...</td>\n",
       "    </tr>\n",
       "    <tr>\n",
       "      <th>851259</th>\n",
       "      <td>2016-12-30</td>\n",
       "      <td>ZBH</td>\n",
       "      <td>103.309998</td>\n",
       "      <td>103.199997</td>\n",
       "      <td>102.849998</td>\n",
       "      <td>103.930000</td>\n",
       "      <td>973800.0</td>\n",
       "    </tr>\n",
       "    <tr>\n",
       "      <th>851260</th>\n",
       "      <td>2016-12-30</td>\n",
       "      <td>ZION</td>\n",
       "      <td>43.070000</td>\n",
       "      <td>43.040001</td>\n",
       "      <td>42.689999</td>\n",
       "      <td>43.310001</td>\n",
       "      <td>1938100.0</td>\n",
       "    </tr>\n",
       "    <tr>\n",
       "      <th>851261</th>\n",
       "      <td>2016-12-30</td>\n",
       "      <td>ZTS</td>\n",
       "      <td>53.639999</td>\n",
       "      <td>53.529999</td>\n",
       "      <td>53.270000</td>\n",
       "      <td>53.740002</td>\n",
       "      <td>1701200.0</td>\n",
       "    </tr>\n",
       "    <tr>\n",
       "      <th>851262</th>\n",
       "      <td>2016-12-30 00:00:00</td>\n",
       "      <td>AIV</td>\n",
       "      <td>44.730000</td>\n",
       "      <td>45.450001</td>\n",
       "      <td>44.410000</td>\n",
       "      <td>45.590000</td>\n",
       "      <td>1380900.0</td>\n",
       "    </tr>\n",
       "    <tr>\n",
       "      <th>851263</th>\n",
       "      <td>2016-12-30 00:00:00</td>\n",
       "      <td>FTV</td>\n",
       "      <td>54.200001</td>\n",
       "      <td>53.630001</td>\n",
       "      <td>53.389999</td>\n",
       "      <td>54.480000</td>\n",
       "      <td>705100.0</td>\n",
       "    </tr>\n",
       "  </tbody>\n",
       "</table>\n",
       "<p>851264 rows × 7 columns</p>\n",
       "</div>"
      ],
      "text/plain": [
       "                       date symbol        open       close         low  \\\n",
       "0       2016-01-05 00:00:00   WLTW  123.430000  125.839996  122.309998   \n",
       "1       2016-01-06 00:00:00   WLTW  125.239998  119.980003  119.940002   \n",
       "2       2016-01-07 00:00:00   WLTW  116.379997  114.949997  114.930000   \n",
       "3       2016-01-08 00:00:00   WLTW  115.480003  116.620003  113.500000   \n",
       "4       2016-01-11 00:00:00   WLTW  117.010002  114.970001  114.089996   \n",
       "...                     ...    ...         ...         ...         ...   \n",
       "851259           2016-12-30    ZBH  103.309998  103.199997  102.849998   \n",
       "851260           2016-12-30   ZION   43.070000   43.040001   42.689999   \n",
       "851261           2016-12-30    ZTS   53.639999   53.529999   53.270000   \n",
       "851262  2016-12-30 00:00:00    AIV   44.730000   45.450001   44.410000   \n",
       "851263  2016-12-30 00:00:00    FTV   54.200001   53.630001   53.389999   \n",
       "\n",
       "              high     volume  \n",
       "0       126.250000  2163600.0  \n",
       "1       125.540001  2386400.0  \n",
       "2       119.739998  2489500.0  \n",
       "3       117.440002  2006300.0  \n",
       "4       117.330002  1408600.0  \n",
       "...            ...        ...  \n",
       "851259  103.930000   973800.0  \n",
       "851260   43.310001  1938100.0  \n",
       "851261   53.740002  1701200.0  \n",
       "851262   45.590000  1380900.0  \n",
       "851263   54.480000   705100.0  \n",
       "\n",
       "[851264 rows x 7 columns]"
      ]
     },
     "execution_count": 193,
     "metadata": {},
     "output_type": "execute_result"
    }
   ],
   "source": [
    "import pandas as pd\n",
    "import numpy as np\n",
    "import matplotlib.pyplot as plt\n",
    "\n",
    "import torch\n",
    "import torch.nn as nn\n",
    "\n",
    "\n",
    "target_file_path = \"/Users/wangyuhang/Desktop/third semester/affective computing/pytorch_lab_git/pytorch_git_Bruce/pytorch_test/RNN_LSTM/archive/prices.csv\"\n",
    "\n",
    "dataPrices = pd.read_csv(target_file_path)\n",
    "\n",
    "dataPrices"
   ]
  },
  {
   "cell_type": "code",
   "execution_count": 250,
   "id": "afec264b-0bdf-4b14-b5a9-78137f23d147",
   "metadata": {},
   "outputs": [
    {
     "data": {
      "text/plain": [
       "[('A',), ('PRGO',), ('NUE',), ('NTRS',), ('NTAP',)]"
      ]
     },
     "execution_count": 250,
     "metadata": {},
     "output_type": "execute_result"
    }
   ],
   "source": [
    "dataPrices_symbol = dataPrices[['symbol']]\n",
    "max_frequency = dataPrices_symbol.value_counts().max()\n",
    "value_counts = dataPrices_symbol.value_counts()\n",
    "most_frequent_values = value_counts[value_counts == max_frequency].index.tolist()\n",
    "most_frequent_values[0:5]"
   ]
  },
  {
   "cell_type": "markdown",
   "id": "f31159ba-1fc1-4604-90ec-4c3e17a4c690",
   "metadata": {},
   "source": [
    "## all of share of stocks"
   ]
  },
  {
   "cell_type": "code",
   "execution_count": 195,
   "id": "4361c5bc-9b30-4163-bebe-bfb95e9fbbf4",
   "metadata": {},
   "outputs": [
    {
     "data": {
      "text/html": [
       "<div>\n",
       "<style scoped>\n",
       "    .dataframe tbody tr th:only-of-type {\n",
       "        vertical-align: middle;\n",
       "    }\n",
       "\n",
       "    .dataframe tbody tr th {\n",
       "        vertical-align: top;\n",
       "    }\n",
       "\n",
       "    .dataframe thead th {\n",
       "        text-align: right;\n",
       "    }\n",
       "</style>\n",
       "<table border=\"1\" class=\"dataframe\">\n",
       "  <thead>\n",
       "    <tr style=\"text-align: right;\">\n",
       "      <th></th>\n",
       "      <th>date</th>\n",
       "      <th>symbol</th>\n",
       "      <th>close</th>\n",
       "    </tr>\n",
       "  </thead>\n",
       "  <tbody>\n",
       "    <tr>\n",
       "      <th>0</th>\n",
       "      <td>2016-01-05 00:00:00</td>\n",
       "      <td>WLTW</td>\n",
       "      <td>125.839996</td>\n",
       "    </tr>\n",
       "    <tr>\n",
       "      <th>1</th>\n",
       "      <td>2016-01-06 00:00:00</td>\n",
       "      <td>WLTW</td>\n",
       "      <td>119.980003</td>\n",
       "    </tr>\n",
       "    <tr>\n",
       "      <th>2</th>\n",
       "      <td>2016-01-07 00:00:00</td>\n",
       "      <td>WLTW</td>\n",
       "      <td>114.949997</td>\n",
       "    </tr>\n",
       "    <tr>\n",
       "      <th>3</th>\n",
       "      <td>2016-01-08 00:00:00</td>\n",
       "      <td>WLTW</td>\n",
       "      <td>116.620003</td>\n",
       "    </tr>\n",
       "    <tr>\n",
       "      <th>4</th>\n",
       "      <td>2016-01-11 00:00:00</td>\n",
       "      <td>WLTW</td>\n",
       "      <td>114.970001</td>\n",
       "    </tr>\n",
       "    <tr>\n",
       "      <th>...</th>\n",
       "      <td>...</td>\n",
       "      <td>...</td>\n",
       "      <td>...</td>\n",
       "    </tr>\n",
       "    <tr>\n",
       "      <th>851259</th>\n",
       "      <td>2016-12-30</td>\n",
       "      <td>ZBH</td>\n",
       "      <td>103.199997</td>\n",
       "    </tr>\n",
       "    <tr>\n",
       "      <th>851260</th>\n",
       "      <td>2016-12-30</td>\n",
       "      <td>ZION</td>\n",
       "      <td>43.040001</td>\n",
       "    </tr>\n",
       "    <tr>\n",
       "      <th>851261</th>\n",
       "      <td>2016-12-30</td>\n",
       "      <td>ZTS</td>\n",
       "      <td>53.529999</td>\n",
       "    </tr>\n",
       "    <tr>\n",
       "      <th>851262</th>\n",
       "      <td>2016-12-30 00:00:00</td>\n",
       "      <td>AIV</td>\n",
       "      <td>45.450001</td>\n",
       "    </tr>\n",
       "    <tr>\n",
       "      <th>851263</th>\n",
       "      <td>2016-12-30 00:00:00</td>\n",
       "      <td>FTV</td>\n",
       "      <td>53.630001</td>\n",
       "    </tr>\n",
       "  </tbody>\n",
       "</table>\n",
       "<p>851264 rows × 3 columns</p>\n",
       "</div>"
      ],
      "text/plain": [
       "                       date symbol       close\n",
       "0       2016-01-05 00:00:00   WLTW  125.839996\n",
       "1       2016-01-06 00:00:00   WLTW  119.980003\n",
       "2       2016-01-07 00:00:00   WLTW  114.949997\n",
       "3       2016-01-08 00:00:00   WLTW  116.620003\n",
       "4       2016-01-11 00:00:00   WLTW  114.970001\n",
       "...                     ...    ...         ...\n",
       "851259           2016-12-30    ZBH  103.199997\n",
       "851260           2016-12-30   ZION   43.040001\n",
       "851261           2016-12-30    ZTS   53.529999\n",
       "851262  2016-12-30 00:00:00    AIV   45.450001\n",
       "851263  2016-12-30 00:00:00    FTV   53.630001\n",
       "\n",
       "[851264 rows x 3 columns]"
      ]
     },
     "execution_count": 195,
     "metadata": {},
     "output_type": "execute_result"
    }
   ],
   "source": [
    "dataPrices_select = dataPrices[[\"date\", \"symbol\", \"close\"]]\n",
    "dataPrices_select"
   ]
  },
  {
   "cell_type": "markdown",
   "id": "e419c28d-3e61-4508-92af-000270f50927",
   "metadata": {},
   "source": [
    "## choose A as the sample(or I can choose any brand if I want)"
   ]
  },
  {
   "cell_type": "code",
   "execution_count": 280,
   "id": "a0ff1fb6-454c-4592-843b-c70353dde998",
   "metadata": {},
   "outputs": [
    {
     "data": {
      "text/html": [
       "<div>\n",
       "<style scoped>\n",
       "    .dataframe tbody tr th:only-of-type {\n",
       "        vertical-align: middle;\n",
       "    }\n",
       "\n",
       "    .dataframe tbody tr th {\n",
       "        vertical-align: top;\n",
       "    }\n",
       "\n",
       "    .dataframe thead th {\n",
       "        text-align: right;\n",
       "    }\n",
       "</style>\n",
       "<table border=\"1\" class=\"dataframe\">\n",
       "  <thead>\n",
       "    <tr style=\"text-align: right;\">\n",
       "      <th></th>\n",
       "      <th>date</th>\n",
       "      <th>close</th>\n",
       "    </tr>\n",
       "  </thead>\n",
       "  <tbody>\n",
       "    <tr>\n",
       "      <th>251</th>\n",
       "      <td>2010-01-04</td>\n",
       "      <td>31.300001</td>\n",
       "    </tr>\n",
       "    <tr>\n",
       "      <th>718</th>\n",
       "      <td>2010-01-05</td>\n",
       "      <td>30.960001</td>\n",
       "    </tr>\n",
       "    <tr>\n",
       "      <th>1186</th>\n",
       "      <td>2010-01-06</td>\n",
       "      <td>30.850001</td>\n",
       "    </tr>\n",
       "    <tr>\n",
       "      <th>1654</th>\n",
       "      <td>2010-01-07</td>\n",
       "      <td>30.809999</td>\n",
       "    </tr>\n",
       "    <tr>\n",
       "      <th>2122</th>\n",
       "      <td>2010-01-08</td>\n",
       "      <td>30.800000</td>\n",
       "    </tr>\n",
       "    <tr>\n",
       "      <th>...</th>\n",
       "      <td>...</td>\n",
       "      <td>...</td>\n",
       "    </tr>\n",
       "    <tr>\n",
       "      <th>848764</th>\n",
       "      <td>2016-12-23</td>\n",
       "      <td>46.200001</td>\n",
       "    </tr>\n",
       "    <tr>\n",
       "      <th>849264</th>\n",
       "      <td>2016-12-27</td>\n",
       "      <td>46.509998</td>\n",
       "    </tr>\n",
       "    <tr>\n",
       "      <th>849764</th>\n",
       "      <td>2016-12-28</td>\n",
       "      <td>45.720001</td>\n",
       "    </tr>\n",
       "    <tr>\n",
       "      <th>850264</th>\n",
       "      <td>2016-12-29</td>\n",
       "      <td>45.639999</td>\n",
       "    </tr>\n",
       "    <tr>\n",
       "      <th>850764</th>\n",
       "      <td>2016-12-30</td>\n",
       "      <td>45.560001</td>\n",
       "    </tr>\n",
       "  </tbody>\n",
       "</table>\n",
       "<p>1762 rows × 2 columns</p>\n",
       "</div>"
      ],
      "text/plain": [
       "              date      close\n",
       "251     2010-01-04  31.300001\n",
       "718     2010-01-05  30.960001\n",
       "1186    2010-01-06  30.850001\n",
       "1654    2010-01-07  30.809999\n",
       "2122    2010-01-08  30.800000\n",
       "...            ...        ...\n",
       "848764  2016-12-23  46.200001\n",
       "849264  2016-12-27  46.509998\n",
       "849764  2016-12-28  45.720001\n",
       "850264  2016-12-29  45.639999\n",
       "850764  2016-12-30  45.560001\n",
       "\n",
       "[1762 rows x 2 columns]"
      ]
     },
     "execution_count": 280,
     "metadata": {},
     "output_type": "execute_result"
    }
   ],
   "source": [
    "dataPrices_select_A = dataPrices_select[dataPrices_select[\"symbol\"] == \"A\"]\n",
    "dataPrices_select_A = dataPrices_select_A[[\"date\",\"close\"]]\n",
    "dataPrices_select_A"
   ]
  },
  {
   "cell_type": "code",
   "execution_count": 281,
   "id": "f9c5a865-3e82-4733-9aca-bcd0de9b3049",
   "metadata": {},
   "outputs": [
    {
     "data": {
      "text/plain": [
       "'cpu'"
      ]
     },
     "execution_count": 281,
     "metadata": {},
     "output_type": "execute_result"
    }
   ],
   "source": [
    "device = 'cuda:0' if torch.cuda.is_available() else 'cpu'\n",
    "device"
   ]
  },
  {
   "cell_type": "code",
   "execution_count": 282,
   "id": "ce20c4d1-e690-4512-8e1e-fb8112d5f91b",
   "metadata": {},
   "outputs": [
    {
     "data": {
      "text/plain": [
       "[<matplotlib.lines.Line2D at 0x1435284d0>]"
      ]
     },
     "execution_count": 282,
     "metadata": {},
     "output_type": "execute_result"
    },
    {
     "data": {
      "image/png": "[encoded data removed]",
      "text/plain": [
       "<Figure size 640x480 with 1 Axes>"
      ]
     },
     "metadata": {},
     "output_type": "display_data"
    }
   ],
   "source": [
    "dataPrices_select_A['date'] = pd.to_datetime(dataPrices_select_A['date'])\n",
    "\n",
    "plt.plot(dataPrices_select_A['date'], dataPrices_select_A['close'])"
   ]
  },
  {
   "cell_type": "markdown",
   "id": "54f61173-fa14-4575-a51f-6bb2be83d09d",
   "metadata": {},
   "source": [
    "## create the time line lookback**\n",
    "\n",
    "This is a very import feature of LSTM preprocessing."
   ]
  },
  {
   "cell_type": "code",
   "execution_count": 283,
   "id": "bffe1dc8-bdba-48c5-ad7e-a877e5e07ec4",
   "metadata": {},
   "outputs": [
    {
     "data": {
      "text/html": [
       "<div>\n",
       "<style scoped>\n",
       "    .dataframe tbody tr th:only-of-type {\n",
       "        vertical-align: middle;\n",
       "    }\n",
       "\n",
       "    .dataframe tbody tr th {\n",
       "        vertical-align: top;\n",
       "    }\n",
       "\n",
       "    .dataframe thead th {\n",
       "        text-align: right;\n",
       "    }\n",
       "</style>\n",
       "<table border=\"1\" class=\"dataframe\">\n",
       "  <thead>\n",
       "    <tr style=\"text-align: right;\">\n",
       "      <th></th>\n",
       "      <th>close</th>\n",
       "      <th>Close(t-1)</th>\n",
       "      <th>Close(t-2)</th>\n",
       "      <th>Close(t-3)</th>\n",
       "      <th>Close(t-4)</th>\n",
       "      <th>Close(t-5)</th>\n",
       "      <th>Close(t-6)</th>\n",
       "      <th>Close(t-7)</th>\n",
       "    </tr>\n",
       "    <tr>\n",
       "      <th>date</th>\n",
       "      <th></th>\n",
       "      <th></th>\n",
       "      <th></th>\n",
       "      <th></th>\n",
       "      <th></th>\n",
       "      <th></th>\n",
       "      <th></th>\n",
       "      <th></th>\n",
       "    </tr>\n",
       "  </thead>\n",
       "  <tbody>\n",
       "    <tr>\n",
       "      <th>2010-01-13</th>\n",
       "      <td>30.689999</td>\n",
       "      <td>30.450001</td>\n",
       "      <td>30.820001</td>\n",
       "      <td>30.800000</td>\n",
       "      <td>30.809999</td>\n",
       "      <td>30.850001</td>\n",
       "      <td>30.960001</td>\n",
       "      <td>31.300001</td>\n",
       "    </tr>\n",
       "    <tr>\n",
       "      <th>2010-01-14</th>\n",
       "      <td>31.150001</td>\n",
       "      <td>30.689999</td>\n",
       "      <td>30.450001</td>\n",
       "      <td>30.820001</td>\n",
       "      <td>30.800000</td>\n",
       "      <td>30.809999</td>\n",
       "      <td>30.850001</td>\n",
       "      <td>30.960001</td>\n",
       "    </tr>\n",
       "    <tr>\n",
       "      <th>2010-01-15</th>\n",
       "      <td>30.430000</td>\n",
       "      <td>31.150001</td>\n",
       "      <td>30.689999</td>\n",
       "      <td>30.450001</td>\n",
       "      <td>30.820001</td>\n",
       "      <td>30.800000</td>\n",
       "      <td>30.809999</td>\n",
       "      <td>30.850001</td>\n",
       "    </tr>\n",
       "    <tr>\n",
       "      <th>2010-01-19</th>\n",
       "      <td>30.800000</td>\n",
       "      <td>30.430000</td>\n",
       "      <td>31.150001</td>\n",
       "      <td>30.689999</td>\n",
       "      <td>30.450001</td>\n",
       "      <td>30.820001</td>\n",
       "      <td>30.800000</td>\n",
       "      <td>30.809999</td>\n",
       "    </tr>\n",
       "    <tr>\n",
       "      <th>2010-01-20</th>\n",
       "      <td>30.630001</td>\n",
       "      <td>30.800000</td>\n",
       "      <td>30.430000</td>\n",
       "      <td>31.150001</td>\n",
       "      <td>30.689999</td>\n",
       "      <td>30.450001</td>\n",
       "      <td>30.820001</td>\n",
       "      <td>30.800000</td>\n",
       "    </tr>\n",
       "    <tr>\n",
       "      <th>...</th>\n",
       "      <td>...</td>\n",
       "      <td>...</td>\n",
       "      <td>...</td>\n",
       "      <td>...</td>\n",
       "      <td>...</td>\n",
       "      <td>...</td>\n",
       "      <td>...</td>\n",
       "      <td>...</td>\n",
       "    </tr>\n",
       "    <tr>\n",
       "      <th>2016-12-23</th>\n",
       "      <td>46.200001</td>\n",
       "      <td>45.970001</td>\n",
       "      <td>46.040001</td>\n",
       "      <td>46.209999</td>\n",
       "      <td>45.430000</td>\n",
       "      <td>45.910000</td>\n",
       "      <td>46.560001</td>\n",
       "      <td>46.139999</td>\n",
       "    </tr>\n",
       "    <tr>\n",
       "      <th>2016-12-27</th>\n",
       "      <td>46.509998</td>\n",
       "      <td>46.200001</td>\n",
       "      <td>45.970001</td>\n",
       "      <td>46.040001</td>\n",
       "      <td>46.209999</td>\n",
       "      <td>45.430000</td>\n",
       "      <td>45.910000</td>\n",
       "      <td>46.560001</td>\n",
       "    </tr>\n",
       "    <tr>\n",
       "      <th>2016-12-28</th>\n",
       "      <td>45.720001</td>\n",
       "      <td>46.509998</td>\n",
       "      <td>46.200001</td>\n",
       "      <td>45.970001</td>\n",
       "      <td>46.040001</td>\n",
       "      <td>46.209999</td>\n",
       "      <td>45.430000</td>\n",
       "      <td>45.910000</td>\n",
       "    </tr>\n",
       "    <tr>\n",
       "      <th>2016-12-29</th>\n",
       "      <td>45.639999</td>\n",
       "      <td>45.720001</td>\n",
       "      <td>46.509998</td>\n",
       "      <td>46.200001</td>\n",
       "      <td>45.970001</td>\n",
       "      <td>46.040001</td>\n",
       "      <td>46.209999</td>\n",
       "      <td>45.430000</td>\n",
       "    </tr>\n",
       "    <tr>\n",
       "      <th>2016-12-30</th>\n",
       "      <td>45.560001</td>\n",
       "      <td>45.639999</td>\n",
       "      <td>45.720001</td>\n",
       "      <td>46.509998</td>\n",
       "      <td>46.200001</td>\n",
       "      <td>45.970001</td>\n",
       "      <td>46.040001</td>\n",
       "      <td>46.209999</td>\n",
       "    </tr>\n",
       "  </tbody>\n",
       "</table>\n",
       "<p>1755 rows × 8 columns</p>\n",
       "</div>"
      ],
      "text/plain": [
       "                close  Close(t-1)  Close(t-2)  Close(t-3)  Close(t-4)  \\\n",
       "date                                                                    \n",
       "2010-01-13  30.689999   30.450001   30.820001   30.800000   30.809999   \n",
       "2010-01-14  31.150001   30.689999   30.450001   30.820001   30.800000   \n",
       "2010-01-15  30.430000   31.150001   30.689999   30.450001   30.820001   \n",
       "2010-01-19  30.800000   30.430000   31.150001   30.689999   30.450001   \n",
       "2010-01-20  30.630001   30.800000   30.430000   31.150001   30.689999   \n",
       "...               ...         ...         ...         ...         ...   \n",
       "2016-12-23  46.200001   45.970001   46.040001   46.209999   45.430000   \n",
       "2016-12-27  46.509998   46.200001   45.970001   46.040001   46.209999   \n",
       "2016-12-28  45.720001   46.509998   46.200001   45.970001   46.040001   \n",
       "2016-12-29  45.639999   45.720001   46.509998   46.200001   45.970001   \n",
       "2016-12-30  45.560001   45.639999   45.720001   46.509998   46.200001   \n",
       "\n",
       "            Close(t-5)  Close(t-6)  Close(t-7)  \n",
       "date                                            \n",
       "2010-01-13   30.850001   30.960001   31.300001  \n",
       "2010-01-14   30.809999   30.850001   30.960001  \n",
       "2010-01-15   30.800000   30.809999   30.850001  \n",
       "2010-01-19   30.820001   30.800000   30.809999  \n",
       "2010-01-20   30.450001   30.820001   30.800000  \n",
       "...                ...         ...         ...  \n",
       "2016-12-23   45.910000   46.560001   46.139999  \n",
       "2016-12-27   45.430000   45.910000   46.560001  \n",
       "2016-12-28   46.209999   45.430000   45.910000  \n",
       "2016-12-29   46.040001   46.209999   45.430000  \n",
       "2016-12-30   45.970001   46.040001   46.209999  \n",
       "\n",
       "[1755 rows x 8 columns]"
      ]
     },
     "execution_count": 283,
     "metadata": {},
     "output_type": "execute_result"
    }
   ],
   "source": [
    "from copy import deepcopy as dc\n",
    "\n",
    "def prepare_dataframe_for_lstm(df, n_steps):\n",
    "    df = dc(df)\n",
    "\n",
    "    df.set_index('date', inplace=True)\n",
    "\n",
    "    for i in range(1, n_steps+1):\n",
    "        df[f'Close(t-{i})'] = df['close'].shift(i)\n",
    "\n",
    "    df.dropna(inplace=True)\n",
    "\n",
    "    return df\n",
    "\n",
    "lookback = 7\n",
    "shifted_df = prepare_dataframe_for_lstm(dataPrices_select_A, lookback)\n",
    "shifted_df"
   ]
  },
  {
   "cell_type": "markdown",
   "id": "5ef0e8de-01c7-4512-8113-b54408accec5",
   "metadata": {},
   "source": [
    "## to_numpy to do some reshape and scaler processing"
   ]
  },
  {
   "cell_type": "code",
   "execution_count": 284,
   "id": "5e5fd4dc-e13e-4166-a4fc-e9ab740a632a",
   "metadata": {},
   "outputs": [
    {
     "data": {
      "text/plain": [
       "array([[30.689999, 30.450001, 30.820001, ..., 30.850001, 30.960001,\n",
       "        31.300001],\n",
       "       [31.150001, 30.689999, 30.450001, ..., 30.809999, 30.850001,\n",
       "        30.960001],\n",
       "       [30.43    , 31.150001, 30.689999, ..., 30.8     , 30.809999,\n",
       "        30.850001],\n",
       "       ...,\n",
       "       [45.720001, 46.509998, 46.200001, ..., 46.209999, 45.43    ,\n",
       "        45.91    ],\n",
       "       [45.639999, 45.720001, 46.509998, ..., 46.040001, 46.209999,\n",
       "        45.43    ],\n",
       "       [45.560001, 45.639999, 45.720001, ..., 45.970001, 46.040001,\n",
       "        46.209999]])"
      ]
     },
     "execution_count": 284,
     "metadata": {},
     "output_type": "execute_result"
    }
   ],
   "source": [
    "shifted_df_as_np = shifted_df.to_numpy()\n",
    "\n",
    "shifted_df_as_np"
   ]
  },
  {
   "cell_type": "code",
   "execution_count": 285,
   "id": "0adf1489-015e-4f12-9f61-dcd3c90ded54",
   "metadata": {},
   "outputs": [
    {
     "data": {
      "text/plain": [
       "(1755, 8)"
      ]
     },
     "execution_count": 285,
     "metadata": {},
     "output_type": "execute_result"
    }
   ],
   "source": [
    "shifted_df_as_np.shape"
   ]
  },
  {
   "cell_type": "code",
   "execution_count": 286,
   "id": "004b7635-4309-4a75-914f-1d9542f62465",
   "metadata": {},
   "outputs": [
    {
     "data": {
      "text/plain": [
       "array([[-0.78091879, -0.79505294, -0.7732626 , ..., -0.77149582,\n",
       "        -0.76501761, -0.74499405],\n",
       "       [-0.75382797, -0.78091879, -0.79505294, ..., -0.77385165,\n",
       "        -0.77149582, -0.76501761],\n",
       "       [-0.79623086, -0.75382797, -0.78091879, ..., -0.77444052,\n",
       "        -0.77385165, -0.77149582],\n",
       "       ...,\n",
       "       [ 0.10424034,  0.15076549,  0.13250889, ...,  0.1330977 ,\n",
       "         0.08716137,  0.11542992],\n",
       "       [ 0.0995288 ,  0.10424034,  0.15076549, ...,  0.12308604,\n",
       "         0.1330977 ,  0.08716137],\n",
       "       [ 0.09481749,  0.0995288 ,  0.10424034, ...,  0.11896355,\n",
       "         0.12308604,  0.1330977 ]])"
      ]
     },
     "execution_count": 286,
     "metadata": {},
     "output_type": "execute_result"
    }
   ],
   "source": [
    "from sklearn.preprocessing import MinMaxScaler\n",
    "\n",
    "scaler = MinMaxScaler(feature_range=(-1, 1))\n",
    "shifted_df_as_np = scaler.fit_transform(shifted_df_as_np)\n",
    "\n",
    "shifted_df_as_np"
   ]
  },
  {
   "cell_type": "markdown",
   "id": "e067dab2-df1a-49d1-9d2f-1fc183c29cff",
   "metadata": {},
   "source": [
    "## split the X and y(close data) "
   ]
  },
  {
   "cell_type": "code",
   "execution_count": 287,
   "id": "3b34103a-4eee-4bed-ae4b-1aa479ee0ad9",
   "metadata": {},
   "outputs": [
    {
     "data": {
      "text/plain": [
       "((1755, 7), (1755,))"
      ]
     },
     "execution_count": 287,
     "metadata": {},
     "output_type": "execute_result"
    }
   ],
   "source": [
    "X = shifted_df_as_np[:, 1:]\n",
    "y = shifted_df_as_np[:, 0]\n",
    "\n",
    "X.shape, y.shape"
   ]
  },
  {
   "cell_type": "markdown",
   "id": "a17eef7c-0f25-433b-8985-3735519dadef",
   "metadata": {},
   "source": [
    "## deepcopy create a copy-array and flip the data along the axis=1(along the feature dimension)"
   ]
  },
  {
   "cell_type": "code",
   "execution_count": 288,
   "id": "5c1e52c8-0ea8-44d5-8df6-b9a96ca4ba8a",
   "metadata": {},
   "outputs": [
    {
     "data": {
      "text/plain": [
       "array([[-0.74499405, -0.76501761, -0.77149582, ..., -0.77444052,\n",
       "        -0.7732626 , -0.79505294],\n",
       "       [-0.76501761, -0.77149582, -0.77385165, ..., -0.7732626 ,\n",
       "        -0.79505294, -0.78091879],\n",
       "       [-0.77149582, -0.77385165, -0.77444052, ..., -0.79505294,\n",
       "        -0.78091879, -0.75382797],\n",
       "       ...,\n",
       "       [ 0.11542992,  0.08716137,  0.1330977 , ...,  0.11896355,\n",
       "         0.13250889,  0.15076549],\n",
       "       [ 0.08716137,  0.1330977 ,  0.12308604, ...,  0.13250889,\n",
       "         0.15076549,  0.10424034],\n",
       "       [ 0.1330977 ,  0.12308604,  0.11896355, ...,  0.15076549,\n",
       "         0.10424034,  0.0995288 ]])"
      ]
     },
     "execution_count": 288,
     "metadata": {},
     "output_type": "execute_result"
    }
   ],
   "source": [
    "X = dc(np.flip(X, axis=1))\n",
    "X"
   ]
  },
  {
   "cell_type": "markdown",
   "id": "9f07b0d1-59e8-4bdb-a133-039bc3f445e0",
   "metadata": {},
   "source": [
    "## split train and test data"
   ]
  },
  {
   "cell_type": "code",
   "execution_count": 289,
   "id": "61d78980-a4d1-4714-a040-de0b2300c3ad",
   "metadata": {},
   "outputs": [
    {
     "data": {
      "text/plain": [
       "1404"
      ]
     },
     "execution_count": 289,
     "metadata": {},
     "output_type": "execute_result"
    }
   ],
   "source": [
    "split_index = int(len(X) * 0.80)\n",
    "\n",
    "split_index"
   ]
  },
  {
   "cell_type": "code",
   "execution_count": 290,
   "id": "5bd7dd0d-a324-4c1c-b01e-4de3ad8d0490",
   "metadata": {},
   "outputs": [
    {
     "data": {
      "text/plain": [
       "((1404, 7), (351, 7), (1404,), (351,))"
      ]
     },
     "execution_count": 290,
     "metadata": {},
     "output_type": "execute_result"
    }
   ],
   "source": [
    "X_train = X[:split_index]\n",
    "X_test = X[split_index:]\n",
    "\n",
    "y_train = y[:split_index]\n",
    "y_test = y[split_index:]\n",
    "\n",
    "X_train.shape, X_test.shape, y_train.shape, y_test.shape"
   ]
  },
  {
   "cell_type": "code",
   "execution_count": 291,
   "id": "4412f709-abd2-4e86-9763-55e10035529a",
   "metadata": {},
   "outputs": [
    {
     "data": {
      "text/plain": [
       "((1404, 7, 1), (351, 7, 1), (1404, 1), (351, 1))"
      ]
     },
     "execution_count": 291,
     "metadata": {},
     "output_type": "execute_result"
    }
   ],
   "source": [
    "X_train = X_train.reshape((-1, lookback, 1))\n",
    "X_test = X_test.reshape((-1, lookback, 1))\n",
    "\n",
    "y_train = y_train.reshape((-1, 1))\n",
    "y_test = y_test.reshape((-1, 1))\n",
    "\n",
    "X_train.shape, X_test.shape, y_train.shape, y_test.shape"
   ]
  },
  {
   "cell_type": "code",
   "execution_count": 292,
   "id": "edc09362-5a68-40ba-910b-ec3a50371bd4",
   "metadata": {},
   "outputs": [
    {
     "data": {
      "text/plain": [
       "(torch.Size([1404, 7, 1]),\n",
       " torch.Size([351, 7, 1]),\n",
       " torch.Size([1404, 1]),\n",
       " torch.Size([351, 1]))"
      ]
     },
     "execution_count": 292,
     "metadata": {},
     "output_type": "execute_result"
    }
   ],
   "source": [
    "X_train = torch.tensor(X_train).float()\n",
    "y_train = torch.tensor(y_train).float()\n",
    "X_test = torch.tensor(X_test).float()\n",
    "y_test = torch.tensor(y_test).float()\n",
    "\n",
    "X_train.shape, X_test.shape, y_train.shape, y_test.shape"
   ]
  },
  {
   "cell_type": "code",
   "execution_count": 293,
   "id": "d14c1d2c-4eed-4892-835b-8b33411a2c90",
   "metadata": {},
   "outputs": [],
   "source": [
    "from torch.utils.data import Dataset\n",
    "\n",
    "class TimeSeriesDataset(Dataset):\n",
    "    def __init__(self, X, y):\n",
    "        self.X = X\n",
    "        self.y = y\n",
    "\n",
    "    def __len__(self):\n",
    "        return len(self.X)\n",
    "\n",
    "    def __getitem__(self, i):\n",
    "        return self.X[i], self.y[i]\n",
    "\n",
    "train_dataset = TimeSeriesDataset(X_train, y_train)\n",
    "test_dataset = TimeSeriesDataset(X_test, y_test)"
   ]
  },
  {
   "cell_type": "code",
   "execution_count": 294,
   "id": "95b977e5-b4b2-4bfa-968e-07cefad60f18",
   "metadata": {},
   "outputs": [
    {
     "data": {
      "text/plain": [
       "<__main__.TimeSeriesDataset at 0x13323e810>"
      ]
     },
     "execution_count": 294,
     "metadata": {},
     "output_type": "execute_result"
    }
   ],
   "source": [
    "train_dataset"
   ]
  },
  {
   "cell_type": "code",
   "execution_count": 295,
   "id": "9fef946b-52db-446a-bf53-a17ce8b90315",
   "metadata": {},
   "outputs": [],
   "source": [
    "from torch.utils.data import DataLoader\n",
    "\n",
    "batch_size = 3\n",
    "\n",
    "train_loader = DataLoader(train_dataset, batch_size=batch_size, shuffle=True)\n",
    "test_loader = DataLoader(test_dataset, batch_size=batch_size, shuffle=False)"
   ]
  },
  {
   "cell_type": "code",
   "execution_count": 296,
   "id": "2d202fbb-a019-401a-ba8f-1860dbd28220",
   "metadata": {},
   "outputs": [
    {
     "name": "stdout",
     "output_type": "stream",
     "text": [
      "torch.Size([3, 7, 1]) torch.Size([3, 1])\n"
     ]
    }
   ],
   "source": [
    "for _, batch in enumerate(train_loader):\n",
    "    x_batch, y_batch = batch[0].to(device), batch[1].to(device)\n",
    "    print(x_batch.shape, y_batch.shape)\n",
    "    break"
   ]
  },
  {
   "cell_type": "markdown",
   "id": "5870af9f-1299-41d9-b03c-11f9f265de9f",
   "metadata": {},
   "source": [
    "## create LSTM module\n",
    "\n",
    "I just set 1 stack layer because we only have 1700 more or less figures in data set"
   ]
  },
  {
   "cell_type": "code",
   "execution_count": 297,
   "id": "53b5e1b1-5c13-4dc5-b973-68e3aa982e0d",
   "metadata": {},
   "outputs": [
    {
     "data": {
      "text/plain": [
       "LSTM(\n",
       "  (lstm): LSTM(1, 4, batch_first=True)\n",
       "  (fc): Linear(in_features=4, out_features=1, bias=True)\n",
       ")"
      ]
     },
     "execution_count": 297,
     "metadata": {},
     "output_type": "execute_result"
    }
   ],
   "source": [
    "class LSTM(nn.Module):\n",
    "    def __init__(self, input_size, hidden_size, num_stacked_layers):\n",
    "        super().__init__()\n",
    "        self.hidden_size = hidden_size\n",
    "        self.num_stacked_layers = num_stacked_layers\n",
    "\n",
    "        self.lstm = nn.LSTM(input_size, hidden_size, num_stacked_layers,\n",
    "                            batch_first=True)\n",
    "\n",
    "        self.fc = nn.Linear(hidden_size, 1)\n",
    "\n",
    "    def forward(self, x):\n",
    "        batch_size = x.size(0)\n",
    "        h0 = torch.zeros(self.num_stacked_layers, batch_size, self.hidden_size).to(device)\n",
    "        c0 = torch.zeros(self.num_stacked_layers, batch_size, self.hidden_size).to(device)\n",
    "\n",
    "        out, _ = self.lstm(x, (h0, c0))\n",
    "        out = self.fc(out[:, -1, :])\n",
    "        return out\n",
    "\n",
    "model = LSTM(input_size = 1, hidden_size = 4, num_stacked_layers = 1)\n",
    "model.to(device)\n",
    "model"
   ]
  },
  {
   "cell_type": "code",
   "execution_count": 298,
   "id": "b081f14f-cb93-4a6a-926c-84d997917d7e",
   "metadata": {},
   "outputs": [],
   "source": [
    "def train_one_epoch():\n",
    "    model.train(True)\n",
    "    print(f'Epoch: {epoch + 1}')\n",
    "    running_loss = 0.0\n",
    "\n",
    "    for batch_index, batch in enumerate(train_loader):\n",
    "        x_batch, y_batch = batch[0].to(device), batch[1].to(device)\n",
    "\n",
    "        output = model(x_batch)\n",
    "        loss = loss_function(output, y_batch)\n",
    "        running_loss += loss.item()\n",
    "\n",
    "        optimizer.zero_grad()\n",
    "        loss.backward()\n",
    "        optimizer.step()\n",
    "\n",
    "        if batch_index % 100 == 99:  # print every 100 batches\n",
    "            avg_loss_across_batches = running_loss / 100\n",
    "            print('Batch {0}, Loss: {1:.5f}'.format(batch_index+1,\n",
    "                                                    avg_loss_across_batches))\n",
    "            running_loss = 0.0\n",
    "    print()"
   ]
  },
  {
   "cell_type": "code",
   "execution_count": 299,
   "id": "f56bc52f-62d0-44f5-a2ef-9ff42905d037",
   "metadata": {},
   "outputs": [],
   "source": [
    "def validate_one_epoch():\n",
    "    model.train(False)\n",
    "    running_loss = 0.0\n",
    "\n",
    "    for batch_index, batch in enumerate(test_loader):\n",
    "        x_batch, y_batch = batch[0].to(device), batch[1].to(device)\n",
    "\n",
    "        with torch.no_grad():\n",
    "            output = model(x_batch)\n",
    "            loss = loss_function(output, y_batch)\n",
    "            running_loss += loss.item()\n",
    "\n",
    "    avg_loss_across_batches = running_loss / len(test_loader)\n",
    "\n",
    "    print('Val Loss: {0:.5f}'.format(avg_loss_across_batches))\n",
    "    print('***************************************************')\n",
    "    print()"
   ]
  },
  {
   "cell_type": "code",
   "execution_count": 300,
   "id": "56faa70d-894c-4f16-8b70-f40e98cde684",
   "metadata": {},
   "outputs": [
    {
     "name": "stdout",
     "output_type": "stream",
     "text": [
      "Epoch: 1\n",
      "Batch 100, Loss: 0.39699\n",
      "Batch 200, Loss: 0.19563\n",
      "Batch 300, Loss: 0.10109\n",
      "Batch 400, Loss: 0.03557\n",
      "\n",
      "Val Loss: 0.00574\n",
      "***************************************************\n",
      "\n",
      "Epoch: 2\n",
      "Batch 100, Loss: 0.01055\n",
      "Batch 200, Loss: 0.01067\n",
      "Batch 300, Loss: 0.00800\n",
      "Batch 400, Loss: 0.00756\n",
      "\n",
      "Val Loss: 0.00330\n",
      "***************************************************\n",
      "\n",
      "Epoch: 3\n",
      "Batch 100, Loss: 0.00517\n",
      "Batch 200, Loss: 0.00520\n",
      "Batch 300, Loss: 0.00701\n",
      "Batch 400, Loss: 0.00522\n",
      "\n",
      "Val Loss: 0.00210\n",
      "***************************************************\n",
      "\n",
      "Epoch: 4\n",
      "Batch 100, Loss: 0.00362\n",
      "Batch 200, Loss: 0.00473\n",
      "Batch 300, Loss: 0.00614\n",
      "Batch 400, Loss: 0.00450\n",
      "\n",
      "Val Loss: 0.00239\n",
      "***************************************************\n",
      "\n",
      "Epoch: 5\n",
      "Batch 100, Loss: 0.00296\n",
      "Batch 200, Loss: 0.00462\n",
      "Batch 300, Loss: 0.00459\n",
      "Batch 400, Loss: 0.00500\n",
      "\n",
      "Val Loss: 0.00200\n",
      "***************************************************\n",
      "\n",
      "Epoch: 6\n",
      "Batch 100, Loss: 0.00299\n",
      "Batch 200, Loss: 0.00598\n",
      "Batch 300, Loss: 0.00349\n",
      "Batch 400, Loss: 0.00361\n",
      "\n",
      "Val Loss: 0.00217\n",
      "***************************************************\n",
      "\n",
      "Epoch: 7\n",
      "Batch 100, Loss: 0.00298\n",
      "Batch 200, Loss: 0.00655\n",
      "Batch 300, Loss: 0.00342\n",
      "Batch 400, Loss: 0.00300\n",
      "\n",
      "Val Loss: 0.00167\n",
      "***************************************************\n",
      "\n",
      "Epoch: 8\n",
      "Batch 100, Loss: 0.00606\n",
      "Batch 200, Loss: 0.00283\n",
      "Batch 300, Loss: 0.00368\n",
      "Batch 400, Loss: 0.00264\n",
      "\n",
      "Val Loss: 0.00170\n",
      "***************************************************\n",
      "\n",
      "Epoch: 9\n",
      "Batch 100, Loss: 0.00364\n",
      "Batch 200, Loss: 0.00276\n",
      "Batch 300, Loss: 0.00269\n",
      "Batch 400, Loss: 0.00502\n",
      "\n",
      "Val Loss: 0.00166\n",
      "***************************************************\n",
      "\n",
      "Epoch: 10\n",
      "Batch 100, Loss: 0.00296\n",
      "Batch 200, Loss: 0.00271\n",
      "Batch 300, Loss: 0.00605\n",
      "Batch 400, Loss: 0.00234\n",
      "\n",
      "Val Loss: 0.00153\n",
      "***************************************************\n",
      "\n",
      "Epoch: 11\n",
      "Batch 100, Loss: 0.00259\n",
      "Batch 200, Loss: 0.00540\n",
      "Batch 300, Loss: 0.00280\n",
      "Batch 400, Loss: 0.00272\n",
      "\n",
      "Val Loss: 0.00173\n",
      "***************************************************\n",
      "\n",
      "Epoch: 12\n",
      "Batch 100, Loss: 0.00221\n",
      "Batch 200, Loss: 0.00282\n",
      "Batch 300, Loss: 0.00520\n",
      "Batch 400, Loss: 0.00293\n",
      "\n",
      "Val Loss: 0.00153\n",
      "***************************************************\n",
      "\n",
      "Epoch: 13\n",
      "Batch 100, Loss: 0.00253\n",
      "Batch 200, Loss: 0.00283\n",
      "Batch 300, Loss: 0.00237\n",
      "Batch 400, Loss: 0.00326\n",
      "\n",
      "Val Loss: 0.00165\n",
      "***************************************************\n",
      "\n",
      "Epoch: 14\n",
      "Batch 100, Loss: 0.00230\n",
      "Batch 200, Loss: 0.00251\n",
      "Batch 300, Loss: 0.00336\n",
      "Batch 400, Loss: 0.00219\n",
      "\n",
      "Val Loss: 0.00154\n",
      "***************************************************\n",
      "\n",
      "Epoch: 15\n",
      "Batch 100, Loss: 0.00263\n",
      "Batch 200, Loss: 0.00249\n",
      "Batch 300, Loss: 0.00424\n",
      "Batch 400, Loss: 0.00296\n",
      "\n",
      "Val Loss: 0.00143\n",
      "***************************************************\n",
      "\n",
      "Epoch: 16\n",
      "Batch 100, Loss: 0.00230\n",
      "Batch 200, Loss: 0.00204\n",
      "Batch 300, Loss: 0.00260\n",
      "Batch 400, Loss: 0.00511\n",
      "\n",
      "Val Loss: 0.00138\n",
      "***************************************************\n",
      "\n",
      "Epoch: 17\n",
      "Batch 100, Loss: 0.00237\n",
      "Batch 200, Loss: 0.00240\n",
      "Batch 300, Loss: 0.00473\n",
      "Batch 400, Loss: 0.00293\n",
      "\n",
      "Val Loss: 0.00150\n",
      "***************************************************\n",
      "\n",
      "Epoch: 18\n",
      "Batch 100, Loss: 0.00236\n",
      "Batch 200, Loss: 0.00227\n",
      "Batch 300, Loss: 0.00248\n",
      "Batch 400, Loss: 0.00506\n",
      "\n",
      "Val Loss: 0.00157\n",
      "***************************************************\n",
      "\n",
      "Epoch: 19\n",
      "Batch 100, Loss: 0.00424\n",
      "Batch 200, Loss: 0.00261\n",
      "Batch 300, Loss: 0.00235\n",
      "Batch 400, Loss: 0.00255\n",
      "\n",
      "Val Loss: 0.00156\n",
      "***************************************************\n",
      "\n",
      "Epoch: 20\n",
      "Batch 100, Loss: 0.00256\n",
      "Batch 200, Loss: 0.00243\n",
      "Batch 300, Loss: 0.00184\n",
      "Batch 400, Loss: 0.00241\n",
      "\n",
      "Val Loss: 0.00136\n",
      "***************************************************\n",
      "\n"
     ]
    }
   ],
   "source": [
    "learning_rate = 0.001\n",
    "num_epochs = 20\n",
    "loss_function = nn.MSELoss()\n",
    "optimizer = torch.optim.Adam(model.parameters(), lr=learning_rate)\n",
    "\n",
    "for epoch in range(num_epochs):\n",
    "    train_one_epoch()\n",
    "    validate_one_epoch()"
   ]
  },
  {
   "cell_type": "code",
   "execution_count": 301,
   "id": "1e815b48-fe31-4f40-a6bf-ffe4918293d0",
   "metadata": {},
   "outputs": [
    {
     "data": {
      "image/png": "[encoded data removed]",
      "text/plain": [
       "<Figure size 640x480 with 1 Axes>"
      ]
     },
     "metadata": {},
     "output_type": "display_data"
    }
   ],
   "source": [
    "with torch.no_grad():\n",
    "    predicted = model(X_train.to(device)).to('cpu').numpy()\n",
    "\n",
    "plt.plot(y_train, label='Actual Close')\n",
    "plt.plot(predicted, label='Predicted Close')\n",
    "plt.xlabel('Day')\n",
    "plt.ylabel('Close')\n",
    "plt.legend()\n",
    "plt.show()"
   ]
  },
  {
   "cell_type": "markdown",
   "id": "06596a7e-eb4d-4c63-bc56-19cb311d6235",
   "metadata": {},
   "source": [
    "## restore the predicted as the original data"
   ]
  },
  {
   "cell_type": "code",
   "execution_count": 302,
   "id": "1ff83b9f-a7d8-4eaf-b23b-8743fdf74061",
   "metadata": {},
   "outputs": [
    {
     "name": "stdout",
     "output_type": "stream",
     "text": [
      "(1404, 8)\n"
     ]
    },
    {
     "data": {
      "text/plain": [
       "array([30.57234508, 30.70125054, 31.09554946, ..., 40.13210876,\n",
       "       39.94627038, 40.38935087])"
      ]
     },
     "execution_count": 302,
     "metadata": {},
     "output_type": "execute_result"
    }
   ],
   "source": [
    "train_predictions = predicted.flatten()\n",
    "\n",
    "dummies = np.zeros((X_train.shape[0], lookback+1))\n",
    "print(dummies.shape)\n",
    "dummies[:, 0] = train_predictions\n",
    "dummies = scaler.inverse_transform(dummies)\n",
    "\n",
    "train_predictions = dc(dummies[:, 0])\n",
    "train_predictions"
   ]
  },
  {
   "cell_type": "code",
   "execution_count": 303,
   "id": "9b1f6d6f-8326-43c3-9520-c8f0fe6528eb",
   "metadata": {},
   "outputs": [
    {
     "name": "stdout",
     "output_type": "stream",
     "text": [
      "(1404, 8)\n"
     ]
    },
    {
     "data": {
      "text/plain": [
       "array([30.68999917, 31.15000075, 30.43000012, ..., 39.99000189,\n",
       "       40.47000104, 39.41999786])"
      ]
     },
     "execution_count": 303,
     "metadata": {},
     "output_type": "execute_result"
    }
   ],
   "source": [
    "dummies = np.zeros((X_train.shape[0], lookback+1))\n",
    "print(dummies.shape)\n",
    "dummies[:, 0] = y_train.flatten()\n",
    "dummies = scaler.inverse_transform(dummies)\n",
    "\n",
    "new_y_train = dc(dummies[:, 0])\n",
    "new_y_train"
   ]
  },
  {
   "cell_type": "code",
   "execution_count": 304,
   "id": "d103cf83-e5ee-4b2a-aefb-6d1d31f926c8",
   "metadata": {},
   "outputs": [
    {
     "data": {
      "image/png": "[encoded data removed]",
      "text/plain": [
       "<Figure size 640x480 with 1 Axes>"
      ]
     },
     "metadata": {},
     "output_type": "display_data"
    }
   ],
   "source": [
    "plt.plot(new_y_train, label='Actual Close')\n",
    "plt.plot(train_predictions, label='Predicted Close')\n",
    "plt.xlabel('Day')\n",
    "plt.ylabel('Close')\n",
    "plt.legend()\n",
    "plt.show()"
   ]
  },
  {
   "cell_type": "code",
   "execution_count": 305,
   "id": "0a429e7e-e8df-4b28-afa5-85aabe027b27",
   "metadata": {},
   "outputs": [
    {
     "data": {
      "text/plain": [
       "array([39.46366789, 38.86304392, 38.50888942, 38.57039293, 38.7472794 ,\n",
       "       38.95732892, 38.41492121, 37.53393198, 36.28154937, 34.76960292,\n",
       "       34.30266855, 35.38332632, 36.47407866, 36.49082262, 36.30161298,\n",
       "       34.90859888, 35.38791715, 35.67551479, 35.09469129, 36.03215902,\n",
       "       35.58178138, 35.78563389, 35.9103321 , 35.55866936, 36.04208557,\n",
       "       36.44415833, 36.38202328, 35.77580653, 35.64789595, 35.07926405,\n",
       "       34.90811713, 34.5481654 , 34.41355784, 33.48451574, 33.65123074,\n",
       "       34.20953328, 33.78719853, 34.5139599 , 35.22596301, 34.93059558,\n",
       "       35.43389423, 35.92973785, 36.18325954, 35.98873341, 35.63474388,\n",
       "       35.07844123, 35.46810682, 35.71170297, 36.13989972, 36.27706583,\n",
       "       35.91366895, 36.03022391, 36.9712805 , 36.83475504, 36.99479735,\n",
       "       37.44630752, 37.66261781, 37.7309023 , 38.49405426, 38.28718572,\n",
       "       38.30728374, 38.27258131, 38.11771279, 37.89534212, 37.92347814,\n",
       "       37.64102898, 37.45097121, 36.78225607, 37.21140013, 38.24735201,\n",
       "       39.25286942, 38.5748451 , 39.19613487, 39.97580914, 40.63927156,\n",
       "       41.31590223, 41.95990424, 41.87254394, 41.12724013, 40.43455675,\n",
       "       40.10992482, 40.97959589, 40.70310084, 41.10921183, 40.98455916,\n",
       "       41.2196548 , 40.25135283, 40.19019647, 40.72997175, 41.37116218,\n",
       "       40.8237841 , 40.11716327, 40.7380816 , 41.17911262, 41.73002136,\n",
       "       42.12720928, 41.8248372 , 42.32781907, 42.19598514, 41.82996393,\n",
       "       40.73492794, 40.48822164, 40.65465528, 39.06611106, 38.51077697,\n",
       "       37.89005093, 38.07337428, 36.90463458, 37.44834586, 37.09956555,\n",
       "       37.13114367, 37.20335505, 37.18622852, 37.87458422, 37.61708908,\n",
       "       37.48190666, 37.05058965, 36.15200832, 37.43944253, 37.65335924,\n",
       "       37.09480368, 37.13069633, 37.35799889, 36.14523949, 34.87825652,\n",
       "       35.22508857, 35.73304889, 35.3384261 , 36.07067095, 36.96466246,\n",
       "       37.78696381, 37.24883925, 37.38715104, 37.95345008, 37.22775849,\n",
       "       37.40098829, 37.57285279, 37.5561736 , 37.33011185, 38.44270603,\n",
       "       38.99699666, 39.18457178, 39.32295441, 39.41456548, 38.18159774,\n",
       "       38.0570979 , 37.92791614, 39.07697581, 39.01784564, 38.32018178,\n",
       "       38.88208634, 39.24454602, 40.11274146, 39.69225884, 39.84394131,\n",
       "       39.48439543, 39.39579329, 39.47322806, 40.07979601, 40.11097031,\n",
       "       39.85056036, 40.25205117, 40.01714783, 39.28250535, 40.11759138,\n",
       "       39.50459466, 39.48771102, 39.37579749, 39.68514893, 40.60506505,\n",
       "       40.77842743, 40.90614065, 41.2872875 , 41.40490718, 41.51592501,\n",
       "       41.90297941, 41.81641512, 41.6369959 , 41.3227571 , 41.53508786,\n",
       "       41.18485115, 40.89928679, 41.62301392, 41.26382429, 40.54062952,\n",
       "       40.88140727, 41.37553743, 41.32903001, 41.94481403, 42.44482289,\n",
       "       42.74000562, 42.6523842 , 42.93219889, 44.33316597, 44.38125173,\n",
       "       44.58709856, 44.90791036, 44.63649245, 45.02013309, 45.41360362,\n",
       "       45.53503481, 45.82613579, 45.91809552, 45.97893586, 45.93199831,\n",
       "       45.75590405, 45.86297575, 45.77222091, 46.1294605 , 46.11513289,\n",
       "       45.43883494, 44.9527362 , 44.89469959, 44.92297882, 45.32887373,\n",
       "       45.37025492, 46.09749374, 46.19614387, 46.07997578, 46.65511944,\n",
       "       44.35799448, 42.31976084, 42.92848858, 43.64503495, 44.29083898,\n",
       "       44.58941827, 43.84502989, 44.43491106, 44.4456746 , 45.4189191 ,\n",
       "       45.44408008, 46.47324288, 46.47718875, 46.8146423 , 46.72931832,\n",
       "       46.82429963, 46.99399902, 47.03182779, 46.72652647, 46.60486883,\n",
       "       46.18954582, 46.88205766, 47.24365504, 47.50954317, 48.07664454,\n",
       "       47.93195812, 47.2915394 , 47.12116318, 46.86302461, 47.4284783 ,\n",
       "       47.26161048, 47.44425521, 47.52580411, 48.08756774, 48.16348716,\n",
       "       48.43205301, 48.3255253 , 48.43992199, 46.92096962, 47.53778545,\n",
       "       47.58070122, 47.79937069, 46.82062955, 47.21461397, 47.32736728,\n",
       "       47.60183689, 47.20515754, 47.01313101, 47.00593481, 47.00950369,\n",
       "       46.9649916 , 47.1060168 , 47.04612959, 45.07326056, 45.65043599,\n",
       "       44.94043125, 44.82609579, 45.36988399, 44.83873372, 44.93959577,\n",
       "       45.65619831, 46.04188108, 46.65103694, 46.65943448, 46.62007746,\n",
       "       46.72533803, 47.16350181, 46.51094059, 47.04539633, 47.15621175,\n",
       "       46.88486468, 47.13967273, 47.30507657, 47.39785559, 47.68088467,\n",
       "       45.90012794, 45.47446698, 45.14775825, 45.04477437, 45.11078571,\n",
       "       45.40240639, 45.98733188, 46.07777145, 45.64310899, 45.84841385,\n",
       "       43.69539993, 43.30863549, 43.30429263, 43.17097194, 43.50412462,\n",
       "       43.47868228, 43.2751759 , 43.62867861, 44.28550882, 45.6366539 ,\n",
       "       45.68695462, 45.97086725, 46.98561616, 46.4923321 , 45.45912475,\n",
       "       45.39448681, 46.11545271, 45.9704862 , 45.11523585, 44.96577592,\n",
       "       44.48669499, 44.61245235, 44.85569984, 43.68456605, 44.39134578,\n",
       "       44.01255608, 43.24645136, 43.94283038, 44.49592775, 44.84250071,\n",
       "       45.0081768 , 45.77323553, 46.30890856, 46.20635228, 46.41127685,\n",
       "       46.20035491, 46.55155108, 45.98969915, 45.47559394, 46.1439837 ,\n",
       "       46.06498095, 45.98973508, 46.19372068, 46.50603449, 45.81539148,\n",
       "       45.65328552])"
      ]
     },
     "execution_count": 305,
     "metadata": {},
     "output_type": "execute_result"
    }
   ],
   "source": [
    "test_predictions = model(X_test.to(device)).detach().cpu().numpy().flatten()\n",
    "\n",
    "dummies = np.zeros((X_test.shape[0], lookback+1))\n",
    "dummies[:, 0] = test_predictions\n",
    "dummies = scaler.inverse_transform(dummies)\n",
    "\n",
    "test_predictions = dc(dummies[:, 0])\n",
    "test_predictions"
   ]
  },
  {
   "cell_type": "code",
   "execution_count": 306,
   "id": "d80e9770-c13f-4779-b13b-aa38f6baa1ee",
   "metadata": {},
   "outputs": [
    {
     "data": {
      "text/plain": [
       "array([38.88999883, 38.56000082, 38.65000217, 38.81999987, 39.01999987,\n",
       "       38.40000203, 37.50999815, 36.23000024, 34.67999983, 34.36000124,\n",
       "       35.61999879, 36.63999916, 36.50999812, 36.31000116, 34.74999981,\n",
       "       35.52999896, 35.74999983, 35.060001  , 36.20999888, 35.54000091,\n",
       "       35.86000102, 35.95999925, 35.54999881, 36.15000186, 36.52000007,\n",
       "       36.40000199, 35.74000193, 35.68999876, 35.04999855, 34.95000133,\n",
       "       34.5499993 , 34.45000107, 33.36999912, 33.74000189, 34.33000198,\n",
       "       33.74000189, 34.66999839, 35.3399999 , 34.90000221, 35.54000091,\n",
       "       36.00999786, 36.23000024, 35.99000206, 35.63000124, 35.04999855,\n",
       "       35.58000213, 35.7799991 , 36.23000024, 36.32000007, 35.90000224,\n",
       "       36.08999979, 37.11000117, 36.83000177, 37.0499991 , 37.52000009,\n",
       "       37.70000076, 37.75999777, 38.59000009, 38.26999998, 38.33999996,\n",
       "       38.29999925, 38.13999894, 37.91999808, 37.98000015, 37.66000005,\n",
       "       37.49000184, 36.7700002 , 37.33000204, 38.38000117, 39.33999998,\n",
       "       38.49999976, 39.27999892, 40.02999906, 40.66999801, 41.34000002,\n",
       "       41.97000095, 41.81999993, 41.06000088, 40.41999788, 40.15000194,\n",
       "       41.09999804, 40.70000107, 41.16999802, 40.97999996, 41.24999994,\n",
       "       40.18999911, 40.24999992, 40.810001  , 41.4300001 , 40.77999895,\n",
       "       40.09999802, 40.83000211, 41.22000093, 41.77000006, 42.13999903,\n",
       "       41.77999897, 42.36000103, 42.16999804, 41.81000102, 40.68999912,\n",
       "       40.54999892, 40.73000008, 39.00000002, 38.59000009, 37.93999894,\n",
       "       38.18999907, 36.86000104, 37.61000093, 37.11000117, 37.200001  ,\n",
       "       37.25999801, 37.22999976, 37.98000015, 37.61000093, 37.50999815,\n",
       "       37.0499991 , 36.11000115, 37.65000215, 37.68999881, 37.06999996,\n",
       "       37.18999905, 37.41999781, 36.04000118, 34.79999892, 35.36999916,\n",
       "       35.84999806, 35.3300025 , 36.22000083, 37.08000191, 37.86999896,\n",
       "       37.18999905, 37.43999918, 38.02999876, 37.16999819, 37.47999989,\n",
       "       37.63000078, 37.59000007, 37.34999784, 38.59000009, 39.04000124,\n",
       "       39.20000104, 39.33999998, 39.4299998 , 38.08999983, 38.13000104,\n",
       "       37.98000015, 39.2299998 , 39.01999987, 38.29000084, 38.98000017,\n",
       "       39.29000086, 40.18999911, 39.65000219, 39.88000095, 39.47000102,\n",
       "       39.4299998 , 39.52000014, 40.1600001 , 40.11999888, 39.84999789,\n",
       "       40.31000099, 40.00999794, 39.25999806, 40.24000202, 39.47000102,\n",
       "       39.540001  , 39.40999996, 39.74999991, 40.68999912, 40.77999895,\n",
       "       40.90999999, 41.31000101, 41.4000021 , 41.51999992, 41.92999998,\n",
       "       41.79999907, 41.63000112, 41.31999992, 41.580002  , 41.17999997,\n",
       "       40.91999789, 41.70999899, 41.24000204, 40.5199999 , 40.9599991 ,\n",
       "       41.4300001 , 41.33000212, 41.99999996, 42.45999901, 42.73      ,\n",
       "       42.61999906, 42.93999898, 44.41      , 44.32000001, 44.56000101,\n",
       "       44.88999902, 44.56999999, 45.02999904, 45.41999798, 45.50999806,\n",
       "       45.82000001, 45.88999898, 45.95000105, 45.90000194, 45.72000102,\n",
       "       45.86000098, 45.75000004, 46.15000207, 46.08999999, 45.36000097,\n",
       "       44.91999797, 44.91000001, 44.93999902, 45.36999899, 45.36000097,\n",
       "       46.13999911, 46.15999997, 46.02999906, 46.68000008, 44.119999  ,\n",
       "       42.25999799, 43.11000098, 43.75999801, 44.36000101, 44.59999799,\n",
       "       43.75      , 44.470001  , 44.41999799, 45.48000006, 45.40000205,\n",
       "       46.52999894, 46.4100001 , 46.79999892, 46.66999788, 46.79999892,\n",
       "       46.98000009, 47.00999809, 46.66999788, 46.5800021 , 46.13999911,\n",
       "       46.95000107, 47.25999797, 47.5099981 , 48.1100009 , 47.86999892,\n",
       "       47.18000009, 47.09000001, 46.83000198, 47.49000205, 47.22999997,\n",
       "       47.45000109, 47.5099981 , 48.130001  , 48.1399989 , 48.4399989 ,\n",
       "       48.2799991 , 48.42999999, 46.72000104, 47.61999904, 47.58000213,\n",
       "       47.82000006, 46.70000094, 47.25999797, 47.32000005, 47.61999904,\n",
       "       47.13999888, 46.98000009, 46.99000204, 46.99999994, 46.95000107,\n",
       "       47.11000088, 47.02000004, 44.88000099, 45.75000004, 44.90000198,\n",
       "       44.86000102, 45.43999897, 44.79000098, 44.95000097, 45.70999895,\n",
       "       46.04000101, 46.66999788, 46.61000112, 46.5699999 , 46.70000094,\n",
       "       47.18000009, 46.4100001 , 47.09000001, 47.13999888, 46.83000198,\n",
       "       47.15000209, 47.29999893, 47.38000111, 47.68999902, 45.68999897,\n",
       "       45.47000102, 45.15999995, 45.08000195, 45.15000205, 45.43999897,\n",
       "       46.02000002, 46.04999903, 45.57000001, 45.84999802, 43.50999799,\n",
       "       43.36999901, 43.38000103, 43.22000097, 43.57      , 43.490002  ,\n",
       "       43.25999801, 43.66000001, 44.32000001, 45.70999895, 45.619999  ,\n",
       "       45.93999898, 47.02999895, 46.36999889, 45.33000195, 45.40000205,\n",
       "       46.18000007, 45.93999898, 45.04000098, 44.97000101, 44.45999899,\n",
       "       44.65000198, 44.88999902, 43.599998  , 44.48      , 43.98      ,\n",
       "       43.20999902, 44.029999  , 44.52999903, 44.84000003, 44.990002  ,\n",
       "       45.79999903, 46.29999891, 46.13999911, 46.38999899, 46.13999911,\n",
       "       46.56000099, 45.90999996, 45.43000006, 46.20999909, 46.04000101,\n",
       "       45.97000103, 46.20000093, 46.50999808, 45.72000102, 45.63999897,\n",
       "       45.56000097])"
      ]
     },
     "execution_count": 306,
     "metadata": {},
     "output_type": "execute_result"
    }
   ],
   "source": [
    "dummies = np.zeros((X_test.shape[0], lookback+1))\n",
    "dummies[:, 0] = y_test.flatten()\n",
    "dummies = scaler.inverse_transform(dummies)\n",
    "\n",
    "new_y_test = dc(dummies[:, 0])\n",
    "new_y_test"
   ]
  },
  {
   "cell_type": "code",
   "execution_count": 307,
   "id": "726c68e4-3839-4def-ba86-c47976609742",
   "metadata": {},
   "outputs": [
    {
     "data": {
      "image/png": "[encoded data removed]",
      "text/plain": [
       "<Figure size 640x480 with 1 Axes>"
      ]
     },
     "metadata": {},
     "output_type": "display_data"
    }
   ],
   "source": [
    "plt.plot(new_y_test, label='Actual Close')\n",
    "plt.plot(test_predictions, label='Predicted Close')\n",
    "plt.xlabel('Day')\n",
    "plt.ylabel('Close')\n",
    "plt.legend()\n",
    "plt.show()\n"
   ]
  },
  {
   "cell_type": "markdown",
   "id": "61713e80-10c7-4bb8-9ed6-09c590db70de",
   "metadata": {},
   "source": [
    "## accuracy of final model"
   ]
  },
  {
   "cell_type": "code",
   "execution_count": 308,
   "id": "f0ec2148-9d29-4ab7-947a-8779582d1891",
   "metadata": {},
   "outputs": [
    {
     "name": "stdout",
     "output_type": "stream",
     "text": [
      "99.14529914529915\n",
      "93.16239316239316\n"
     ]
    }
   ],
   "source": [
    "test_accuracy = new_y_test - test_predictions\n",
    "count = 0\n",
    "for i in test_accuracy:\n",
    "    if (i > 0.01 or i < -0.01):\n",
    "        count += 1\n",
    "print(count/len(new_y_test)*100)\n",
    "\n",
    "count = 0\n",
    "for i in test_accuracy:\n",
    "    if (i > 0.05 or i < -0.05):\n",
    "        count += 1\n",
    "print(count/len(new_y_test)*100)"
   ]
  },
  {
   "cell_type": "code",
   "execution_count": null,
   "id": "f23239bd-0320-49e6-9ec0-1b1ce17bca01",
   "metadata": {},
   "outputs": [],
   "source": []
  }
 ],
 "metadata": {
  "kernelspec": {
   "display_name": "Python 3 (ipykernel)",
   "language": "python",
   "name": "python3"
  },
  "language_info": {
   "codemirror_mode": {
    "name": "ipython",
    "version": 3
   },
   "file_extension": ".py",
   "mimetype": "text/x-python",
   "name": "python",
   "nbconvert_exporter": "python",
   "pygments_lexer": "ipython3",
   "version": "3.11.10"
  }
 },
 "nbformat": 4,
 "nbformat_minor": 5
}
