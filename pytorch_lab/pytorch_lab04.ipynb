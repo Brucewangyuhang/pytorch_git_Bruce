{
 "cells": [
  {
   "cell_type": "code",
   "execution_count": 1,
   "id": "79627394-8d44-4f05-b119-0ecc5b0c1447",
   "metadata": {},
   "outputs": [],
   "source": [
    "import torch"
   ]
  },
  {
   "cell_type": "markdown",
   "id": "3b17c735-82e6-4f4c-a37a-115608050022",
   "metadata": {},
   "source": [
    "# design our model(input, output size, forward pass)\n",
    "# construct loss and optimizer\n",
    "# training loop\n",
    "##  - forward pass: compute the prediction\n",
    "##  - backward pass: gradient\n",
    "##  - update weights"
   ]
  },
  {
   "cell_type": "code",
   "execution_count": 3,
   "id": "f57071c5-e12f-4801-a72c-6584fe6db842",
   "metadata": {},
   "outputs": [
    {
     "name": "stdout",
     "output_type": "stream",
     "text": [
      "prediction before training:  f(5) = 0.000\n",
      "epoch 1: w = 0.300, loss = 30.00000000\n",
      "epoch 11: w = 1.665, loss = 1.16278565\n",
      "epoch 21: w = 1.934, loss = 0.04506890\n",
      "epoch 31: w = 1.987, loss = 0.00174685\n",
      "epoch 41: w = 1.997, loss = 0.00006770\n",
      "epoch 51: w = 1.999, loss = 0.00000262\n",
      "epoch 61: w = 2.000, loss = 0.00000010\n",
      "epoch 71: w = 2.000, loss = 0.00000000\n",
      "epoch 81: w = 2.000, loss = 0.00000000\n",
      "epoch 91: w = 2.000, loss = 0.00000000\n",
      "Prediction after training: f(5) = 10.000\n"
     ]
    }
   ],
   "source": [
    "import torch.nn as nn\n",
    "# f = w * x\n",
    "# f = 2 * x\n",
    "X = torch.tensor([1,2,3,4], dtype=torch.float32)\n",
    "Y = torch.tensor([2,4,6,8], dtype=torch.float32)\n",
    "w = torch.tensor(0.0, dtype=torch.float32, requires_grad = True)\n",
    "\n",
    "#model prediction\n",
    "def forward(x):\n",
    "    return w * x\n",
    "\n",
    "print(f'prediction before training:  f(5) = {forward(5):.3f}')\n",
    "\n",
    "#training\n",
    "learning_rate = 0.01\n",
    "n_iters = 100\n",
    "\n",
    "loss = nn.MSELoss()\n",
    "optimizer = torch.optim.SGD([w], lr=learning_rate)\n",
    "\n",
    "for epoch in range(n_iters):\n",
    "    y_pred = forward(X)\n",
    "    \n",
    "    l = loss(Y,y_pred)\n",
    "\n",
    "    l.backward()\n",
    "    optimizer.step()\n",
    "    #zero gradient: clean previous gradient data\n",
    "    optimizer.zero_grad()\n",
    "    \n",
    "    if epoch % 10 ==0:\n",
    "        print(f'epoch {epoch+1}: w = {w:.3f}, loss = {l:.8f}')\n",
    "print(f'Prediction after training: f(5) = {forward(5):.3f}')"
   ]
  },
  {
   "cell_type": "code",
   "execution_count": 33,
   "id": "9a72c4af-c667-4be3-ba9f-119f598812be",
   "metadata": {},
   "outputs": [
    {
     "name": "stdout",
     "output_type": "stream",
     "text": [
      "#samples: 4, #features: 1\n",
      "prediction before training:  f(5) = -0.913\n",
      "epoch 1: w = 0.315, loss = 39.27354431\n",
      "epoch 11: w = 1.749, loss = 1.01692224\n",
      "epoch 21: w = 1.979, loss = 0.02708483\n",
      "epoch 31: w = 2.016, loss = 0.00143027\n",
      "epoch 41: w = 2.021, loss = 0.00072406\n",
      "epoch 51: w = 2.021, loss = 0.00066580\n",
      "epoch 61: w = 2.021, loss = 0.00062663\n",
      "epoch 71: w = 2.020, loss = 0.00059014\n",
      "epoch 81: w = 2.020, loss = 0.00055579\n",
      "epoch 91: w = 2.019, loss = 0.00052344\n",
      "Prediction after training: f(5) = 10.038\n"
     ]
    }
   ],
   "source": [
    "import torch.nn as nn\n",
    "# f = w * x\n",
    "# f = 2 * x\n",
    "X = torch.tensor([[1],[2],[3],[4]], dtype=torch.float32)\n",
    "Y = torch.tensor([[2],[4],[6],[8]], dtype=torch.float32)\n",
    "\n",
    "X_test = torch.tensor([5], dtype = torch.float32)\n",
    "n_samples, n_features = X.shape\n",
    "print(f'#samples: {n_samples}, #features: {n_features}')\n",
    "\n",
    "input_size = n_features\n",
    "output_size = n_features\n",
    "\n",
    "#model = nn.Linear(input_size, output_size)\n",
    "\n",
    "class LinearRegression(nn.Module):\n",
    "    def __init__(self, input_dim, output_dim):\n",
    "        super(LinearRegression, self).__init__()\n",
    "        # define diferent layers: nn.Linear always use as the full connected layers\n",
    "        self.lin = nn.Linear(input_dim, output_dim)\n",
    "\n",
    "    def forward(self, x):\n",
    "        return self.lin(x)\n",
    "\n",
    "#model is a instantiation of class LinearRegression, we can call model to use the class\n",
    "model = LinearRegression(input_size, output_size)\n",
    "\n",
    "\n",
    "\n",
    "print(f'prediction before training:  f(5) = {model(X_test).item():.3f}')\n",
    "\n",
    "#training\n",
    "learning_rate = 0.01\n",
    "n_iters = 100\n",
    "\n",
    "loss = nn.MSELoss()\n",
    "optimizer = torch.optim.SGD(model.parameters(), lr=learning_rate)\n",
    "\n",
    "for epoch in range(n_iters):\n",
    "    y_pred = model(X)\n",
    "    \n",
    "    l = loss(Y,y_pred)\n",
    "\n",
    "    l.backward()\n",
    "    #optimizer.step(): automatically to update weight\n",
    "    optimizer.step()\n",
    "    #zero gradient: clean previous gradient data\n",
    "    optimizer.zero_grad()\n",
    "    \n",
    "    if epoch % 10 ==0:\n",
    "        [w, b] = model.parameters()\n",
    "        print(f'epoch {epoch+1}: w = {w[0][0].item():.3f}, loss = {l:.8f}')\n",
    "        \n",
    "print(f'Prediction after training: f(5) = {model(X_test).item():.3f}')"
   ]
  },
  {
   "cell_type": "code",
   "execution_count": null,
   "id": "75bb2c29-6280-4a61-8a04-ec69a07c42f3",
   "metadata": {},
   "outputs": [],
   "source": []
  },
  {
   "cell_type": "code",
   "execution_count": null,
   "id": "42a24689-f618-4808-bae8-cd50b8e4dfc6",
   "metadata": {},
   "outputs": [],
   "source": []
  }
 ],
 "metadata": {
  "kernelspec": {
   "display_name": "Python 3 (ipykernel)",
   "language": "python",
   "name": "python3"
  },
  "language_info": {
   "codemirror_mode": {
    "name": "ipython",
    "version": 3
   },
   "file_extension": ".py",
   "mimetype": "text/x-python",
   "name": "python",
   "nbconvert_exporter": "python",
   "pygments_lexer": "ipython3",
   "version": "3.11.10"
  }
 },
 "nbformat": 4,
 "nbformat_minor": 5
}
