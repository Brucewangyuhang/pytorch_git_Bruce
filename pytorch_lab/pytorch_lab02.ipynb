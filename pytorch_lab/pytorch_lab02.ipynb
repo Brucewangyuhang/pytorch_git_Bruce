{
 "cells": [
  {
   "cell_type": "code",
   "execution_count": 1,
   "id": "19be9d7d-529b-4f7e-8322-fed5eb583fac",
   "metadata": {},
   "outputs": [],
   "source": [
    "import torch"
   ]
  },
  {
   "cell_type": "markdown",
   "id": "b771a707-cb08-49a0-a24d-84fff6601865",
   "metadata": {},
   "source": [
    "# autograd"
   ]
  },
  {
   "cell_type": "code",
   "execution_count": 3,
   "id": "9ab2386c-5635-4fd8-aabe-35f6b17f65d3",
   "metadata": {},
   "outputs": [
    {
     "name": "stdout",
     "output_type": "stream",
     "text": [
      "tensor([-2.1203,  1.1066, -1.1944])\n"
     ]
    }
   ],
   "source": [
    "#autograd\n",
    "x = torch.randn(3)\n",
    "print(x)"
   ]
  },
  {
   "cell_type": "code",
   "execution_count": 5,
   "id": "62d9cd46-38fa-4dee-80d6-aea1f0c4b534",
   "metadata": {},
   "outputs": [
    {
     "name": "stdout",
     "output_type": "stream",
     "text": [
      "tensor([ 0.5826,  0.5648, -0.3017], requires_grad=True)\n"
     ]
    }
   ],
   "source": [
    "x = torch.randn(3, requires_grad = True)\n",
    "print(x)"
   ]
  },
  {
   "cell_type": "code",
   "execution_count": 6,
   "id": "4c031749-df5b-457b-931f-af0972f459ed",
   "metadata": {},
   "outputs": [
    {
     "name": "stdout",
     "output_type": "stream",
     "text": [
      "tensor([2.5826, 2.5648, 1.6983], grad_fn=<AddBackward0>)\n"
     ]
    }
   ],
   "source": [
    "y = x + 2\n",
    "print(y)"
   ]
  },
  {
   "cell_type": "code",
   "execution_count": 7,
   "id": "f135a881-d689-4ca1-8fa8-831b958520c0",
   "metadata": {},
   "outputs": [
    {
     "name": "stdout",
     "output_type": "stream",
     "text": [
      "tensor([13.3401, 13.1563,  5.7686], grad_fn=<MulBackward0>)\n"
     ]
    }
   ],
   "source": [
    "z = y * y * 2\n",
    "print(z)"
   ]
  },
  {
   "cell_type": "code",
   "execution_count": 8,
   "id": "7c403909-9768-480b-ac6b-b6870a727c91",
   "metadata": {},
   "outputs": [
    {
     "name": "stdout",
     "output_type": "stream",
     "text": [
      "tensor(10.7550, grad_fn=<MeanBackward0>)\n"
     ]
    }
   ],
   "source": [
    "z = z.mean()#it will bring a scalar data\n",
    "print(z)"
   ]
  },
  {
   "cell_type": "code",
   "execution_count": 9,
   "id": "79b830a3-5a5b-466c-8cc2-6848ba29bea4",
   "metadata": {},
   "outputs": [
    {
     "name": "stdout",
     "output_type": "stream",
     "text": [
      "tensor([3.4435, 3.4197, 2.2644])\n"
     ]
    }
   ],
   "source": [
    "z.backward()#dz/dx\n",
    "print(x.grad)"
   ]
  },
  {
   "cell_type": "code",
   "execution_count": 12,
   "id": "6d7709c9-02ce-4054-ac84-9b002d1a203e",
   "metadata": {},
   "outputs": [
    {
     "name": "stdout",
     "output_type": "stream",
     "text": [
      "tensor([-2.1234,  0.6826, -0.1462], requires_grad=True)\n",
      "tensor([-0.1234,  2.6826,  1.8538], grad_fn=<AddBackward0>)\n",
      "tensor([ 0.0305, 14.3923,  6.8735], grad_fn=<MulBackward0>)\n",
      "tensor([-4.9380e-02,  1.0730e+01,  7.4154e-03])\n"
     ]
    }
   ],
   "source": [
    "x = torch.randn(3, requires_grad = True)\n",
    "print(x)\n",
    "y = x + 2\n",
    "print(y)\n",
    "z = y * y * 2\n",
    "print(z)\n",
    "v = torch.tensor([0.1,1.0,0.001],dtype = torch.float32)\n",
    "z.backward(v)#dz/dx\n",
    "print(x.grad)"
   ]
  },
  {
   "cell_type": "markdown",
   "id": "c368944a-f73b-445f-9f9a-e527b1360442",
   "metadata": {},
   "source": [
    "## x.requires_grad_(False)\n",
    "## x.detach()\n",
    "## with torch.no_grad():"
   ]
  },
  {
   "cell_type": "code",
   "execution_count": 15,
   "id": "2a5c3b7a-e8e1-463c-8411-ad7420f85a46",
   "metadata": {},
   "outputs": [
    {
     "name": "stdout",
     "output_type": "stream",
     "text": [
      "tensor([ 0.1806,  1.0684, -0.8888], requires_grad=True)\n",
      "tensor([ 0.1806,  1.0684, -0.8888])\n",
      "tensor([ 0.1806,  1.0684, -0.8888])\n",
      "tensor([2.1806, 3.0684, 1.1112])\n"
     ]
    }
   ],
   "source": [
    "x = torch.randn(3, requires_grad = True)\n",
    "print(x)\n",
    "\n",
    "\n",
    "x.requires_grad_(False)\n",
    "print(x)\n",
    "y = x.detach()\n",
    "print(y)\n",
    "with torch.no_grad():\n",
    "    y = x + 2\n",
    "    print(y)"
   ]
  },
  {
   "cell_type": "code",
   "execution_count": 17,
   "id": "2f643a22-a844-4be3-8c17-95f1f9f257ca",
   "metadata": {},
   "outputs": [
    {
     "name": "stdout",
     "output_type": "stream",
     "text": [
      "tensor([3., 3., 3., 3.])\n"
     ]
    }
   ],
   "source": [
    "weights = torch.ones(4, requires_grad=True)\n",
    "\n",
    "for epoch in range(1):\n",
    "    model_output = (weights*3).sum()\n",
    "    model_output.backward()\n",
    "    print(weights.grad)"
   ]
  },
  {
   "cell_type": "code",
   "execution_count": 18,
   "id": "05123287-1c06-4fea-8ce5-3002a505243f",
   "metadata": {},
   "outputs": [
    {
     "name": "stdout",
     "output_type": "stream",
     "text": [
      "tensor([3., 3., 3., 3.])\n",
      "tensor([6., 6., 6., 6.])\n"
     ]
    }
   ],
   "source": [
    "weights = torch.ones(4, requires_grad=True)\n",
    "\n",
    "for epoch in range(2):\n",
    "    model_output = (weights*3).sum()\n",
    "    model_output.backward()\n",
    "    print(weights.grad)#calculate the gradient model_output about weights"
   ]
  },
  {
   "cell_type": "code",
   "execution_count": 19,
   "id": "50c58d35-0c71-4fb2-83d5-d90dee26a4ec",
   "metadata": {},
   "outputs": [
    {
     "name": "stdout",
     "output_type": "stream",
     "text": [
      "tensor([3., 3., 3., 3.])\n",
      "tensor([3., 3., 3., 3.])\n"
     ]
    }
   ],
   "source": [
    "weights = torch.ones(4, requires_grad=True)\n",
    "\n",
    "for epoch in range(2):\n",
    "    model_output = (weights*3).sum()\n",
    "    model_output.backward()\n",
    "    print(weights.grad)\n",
    "\n",
    "    weights.grad.zero_()"
   ]
  },
  {
   "cell_type": "code",
   "execution_count": 31,
   "id": "662d55b7-6710-477a-9143-f6f6bbc1bd16",
   "metadata": {},
   "outputs": [
    {
     "name": "stdout",
     "output_type": "stream",
     "text": [
      "[tensor([1., 1., 1., 1.], requires_grad=True)]\n",
      "None\n"
     ]
    }
   ],
   "source": [
    "weights = torch.ones(4, requires_grad=True)\n",
    "print([weights])\n",
    "optimizer = torch.optim.SGD([weights], lr=0.01)\n",
    "optimizer.step()\n",
    "print(optimizer.zero_grad())"
   ]
  },
  {
   "cell_type": "code",
   "execution_count": null,
   "id": "72c92af6-be75-4a03-b66a-f5a5393e1c81",
   "metadata": {},
   "outputs": [],
   "source": []
  },
  {
   "cell_type": "code",
   "execution_count": null,
   "id": "2c6014dd-3269-477b-a1b3-d770a2941b43",
   "metadata": {},
   "outputs": [],
   "source": []
  }
 ],
 "metadata": {
  "kernelspec": {
   "display_name": "Python 3 (ipykernel)",
   "language": "python",
   "name": "python3"
  },
  "language_info": {
   "codemirror_mode": {
    "name": "ipython",
    "version": 3
   },
   "file_extension": ".py",
   "mimetype": "text/x-python",
   "name": "python",
   "nbconvert_exporter": "python",
   "pygments_lexer": "ipython3",
   "version": "3.11.10"
  }
 },
 "nbformat": 4,
 "nbformat_minor": 5
}
